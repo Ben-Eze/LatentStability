{
 "cells": [
  {
   "cell_type": "markdown",
   "metadata": {},
   "source": [
    "# Latent Stability Analysis\n",
    "\n",
    "In this notebook, we perform latent stability analysis for the trained CAE and trained ESN. \n",
    "We load the trained models and compute the LEs of the ESN."
   ]
  },
  {
   "cell_type": "code",
   "execution_count": 61,
   "metadata": {},
   "outputs": [],
   "source": [
    "import matplotlib as mpl\n",
    "import pickle\n",
    "import json\n",
    "from pathlib import Path\n",
    "import torch\n",
    "import sys, os\n",
    "import matplotlib.pyplot as plt\n",
    "import numpy as np\n",
    "import warnings\n",
    "warnings.filterwarnings(\"ignore\", category=DeprecationWarning)\n",
    "os.environ[\"CUDA_VISIBLE_DEVICES\"] = \"2\"\n",
    "os.environ[\"XLA_PYTHON_CLIENT_PREALLOCATE\"] = \"false\"\n",
    "os.environ[\"XLA_PYTHON_CLIENT_MEM_FRACTION\"] = \".95\"\n",
    "os.environ[\"XLA_PYTHON_CLIENT_ALLOCATOR\"] = \"platform\"\n",
    "import jax\n",
    "jax.config.update(\"jax_enable_x64\", True)\n",
    "device = torch.device(\"cuda:0\")\n",
    "mpl.rc('text', usetex=True)\n",
    "mpl.rc('font', family='serif')\n",
    "\n",
    "sys.path.append('../')\n",
    "from neuralnetwork.autoencoder import CAE\n",
    "from neuralnetwork.preprocessing import generate_esn_noise_data, train_valid_test_split\n",
    "from stabilitytools.kaplanyorke import kaplan_yorke_dim\n",
    "sys.path.insert(0, '../../EchoStateNetwork/') # you need to get the git repo https://github.com/MagriLab/EchoStateNetwork\n",
    "from esn.esn import ESN\n",
    "from esn.validation import validate\n",
    "from esn.utils import errors, scalers\n",
    "from esn.lyapunov_elise import calculate_LEs_less_storage, calculate_LEs"
   ]
  },
  {
   "cell_type": "markdown",
   "metadata": {},
   "source": [
    "#### 1: Load the latent space data and the parameters of the KS data"
   ]
  },
  {
   "cell_type": "code",
   "execution_count": 59,
   "metadata": {},
   "outputs": [
    {
     "name": "stdout",
     "output_type": "stream",
     "text": [
      "{'upsample': 4, 'L': 22, 'N_data': 400000, 'N_trans': 1000, 'dt': 0.005, 'Nx': 512, 'train_ratio': 0.8, 'valid_ratio': 0.1, 'batchsize': 128, 'normtype': 'max', 'lyap': 0.04}\n"
     ]
    }
   ],
   "source": [
    "cae_path = Path('../weights/fluent-sweep-2/')\n",
    "with open(cae_path/'ks.json') as f:\n",
    "    ks_data = json.load(f)\n",
    "    print(ks_data)\n",
    "\n",
    "with open(cae_path / 'encoded_ks.npy', 'rb') as f:\n",
    "    U_encoded = np.load(f)"
   ]
  },
  {
   "cell_type": "markdown",
   "metadata": {},
   "source": [
    "#### 2: Load the best hyperparamerts of the ESN and train it"
   ]
  },
  {
   "cell_type": "code",
   "execution_count": 3,
   "metadata": {},
   "outputs": [
    {
     "name": "stderr",
     "output_type": "stream",
     "text": [
      "/home/eo821/miniconda3/envs/cae-esn-tf/lib/python3.9/site-packages/sklearn/linear_model/_ridge.py:216: LinAlgWarning: Ill-conditioned matrix (rcond=1.02269e-20): result may not be accurate.\n",
      "  return linalg.solve(A, Xy, assume_a=\"pos\", overwrite_a=True).T\n"
     ]
    }
   ],
   "source": [
    "U_esn = generate_esn_noise_data(U_encoded, 1, sigma_n=1e-3)\n",
    "u_encoded_train, u_encoded_valid, u_encoded_test = train_valid_test_split(U_esn, ks_data)\n",
    "\n",
    "# Extract the shape of the original data\n",
    "total_samples, dim = u_encoded_train.shape\n",
    "N_washout = 100\n",
    "train_size = min(len(u_encoded_train) - N_washout - 101, 100001)  \n",
    "val_size = min(len(u_encoded_valid) - 101 - N_washout, 20001)\n",
    "\n",
    "# Split the data into different datasets\n",
    "U_washout = u_encoded_train[:N_washout, ...]\n",
    "U_train_input = u_encoded_train[N_washout: N_washout + train_size - 1, ...]\n",
    "U_train_label = u_encoded_train[N_washout + 1: N_washout + train_size, ...]\n",
    "U_val_input = u_encoded_valid[: val_size - 1, ...]\n",
    "U_val_label = u_encoded_valid[1:val_size, ...]\n",
    "U_test_washout = u_encoded_test[:N_washout, ...]\n",
    "U_test = u_encoded_test[N_washout:, ...]\n",
    "\n",
    "N_val = 2000  # number of validation steps\n",
    "\n",
    "with open(cae_path / 'esn_best_dict.pkl', 'rb') as f:\n",
    "    esn_loaded_dict = pickle.load(f)\n",
    "\n",
    "\n",
    "ESN_dict = esn_loaded_dict\n",
    "for j in range(0, 5):\n",
    "    my_ESN = ESN(\n",
    "        reservoir_size=ESN_dict[\"reservoir_size\"],\n",
    "        dimension=dim,\n",
    "        reservoir_connectivity=ESN_dict[\"reservoir_connectivity\"],\n",
    "        spectral_radius=ESN_dict[\"spectral_radius\"][j],\n",
    "        input_scaling=ESN_dict[\"input_scaling\"][j],\n",
    "        tikhonov=ESN_dict[\"tikhonov\"][j],\n",
    "        input_bias=ESN_dict[\"input_bias\"],\n",
    "        output_bias=ESN_dict[\"output_bias\"],\n",
    "        reservoir_weights_mode=ESN_dict[\"reservoir_weights_mode\"],\n",
    "        input_normalization=ESN_dict[\"input_normalization\"],\n",
    "        input_weights_mode=ESN_dict[\"input_weights_mode\"],\n",
    "        #   leak_factor =min_dict['leak_factor'][i],\n",
    "        input_seeds=[0, 1, 2],\n",
    "        reservoir_seeds=[3, 4],\n",
    "        verbose=False,\n",
    "    )\n",
    "my_ESN.train(U_washout, U_train_input, U_train_label)"
   ]
  },
  {
   "cell_type": "markdown",
   "metadata": {},
   "source": [
    "#### 3: Perform stability analysis\n",
    "- predict with the ESN \n",
    "- calculate its Jacobian \n",
    "- propagate the tangent equation "
   ]
  },
  {
   "cell_type": "code",
   "execution_count": 60,
   "metadata": {},
   "outputs": [],
   "source": [
    "N_start = 500\n",
    "N_plot = 50000\n",
    "reservoir, prediction = my_ESN.closed_loop_with_washout(\n",
    "    u_encoded_test[N_start:N_start+N_washout, :dim], N_plot)"
   ]
  },
  {
   "cell_type": "code",
   "execution_count": 54,
   "metadata": {},
   "outputs": [
    {
     "data": {
      "text/plain": [
       "array([[ 1.99322950e-01, -1.18567243e-01,  9.36068776e-02, ...,\n",
       "        -2.41660737e-01, -1.10110979e+00, -7.50708316e-01],\n",
       "       [ 2.03349401e-01, -1.15277445e-01,  1.18598481e-01, ...,\n",
       "        -2.39832484e-01, -9.73518641e-01, -7.36511700e-01],\n",
       "       [ 2.06371518e-01, -1.11917129e-01,  1.41199439e-01, ...,\n",
       "        -2.38114632e-01, -8.61865274e-01, -9.08934578e-01],\n",
       "       ...,\n",
       "       [ 5.23670131e-02,  3.57925873e-03, -3.82468575e-05, ...,\n",
       "        -3.11087566e-01, -7.69795217e-01, -7.69961820e-01],\n",
       "       [ 5.23657661e-02,  3.58447394e-03, -3.93978198e-05, ...,\n",
       "        -3.11090107e-01, -7.69790852e-01, -7.69963130e-01],\n",
       "       [ 5.23648400e-02,  3.58932448e-03, -4.03061122e-05, ...,\n",
       "        -3.11093083e-01, -7.69802464e-01, -7.69935566e-01]])"
      ]
     },
     "execution_count": 54,
     "metadata": {},
     "output_type": "execute_result"
    }
   ],
   "source": [
    "N_lyap = int(1 / ks_data[\"lyap\"] /( ks_data[\"dt\"]* ks_data[\"upsample\"]))\n",
    "LEs, FTLE, QQ, RR = calculate_LEs(\n",
    "    my_ESN.calculate_constant_jacobian(),\n",
    "    reservoir[:50 * N_lyap,],\n",
    "    1 * N_lyap,\n",
    "    0.2,\n",
    "    target_dim=10,\n",
    ")\n",
    "LEs"
   ]
  },
  {
   "cell_type": "markdown",
   "metadata": {},
   "source": [
    "#### 5: Compare the stability properties\n",
    "- load the reference LEs"
   ]
  },
  {
   "cell_type": "code",
   "execution_count": 55,
   "metadata": {},
   "outputs": [],
   "source": [
    "with open(\"../data/KS22_LEs.npy\", \"rb\") as f:\n",
    "    LEs_ref = np.load(f)"
   ]
  },
  {
   "cell_type": "code",
   "execution_count": 56,
   "metadata": {},
   "outputs": [
    {
     "data": {
      "image/png": "[encoded data removed]",
      "text/plain": [
       "<Figure size 400x300 with 1 Axes>"
      ]
     },
     "metadata": {},
     "output_type": "display_data"
    }
   ],
   "source": [
    "n_lyap = 10\n",
    "\n",
    "LEs_esn = np.insert(LEs, [3, 4], 0.0, axis=1) # augment with zero\n",
    "\n",
    "fullspace = np.arange(1, n_lyap + 1)\n",
    "fs = 12\n",
    "ax = plt.figure(figsize=(4, 3)).gca()\n",
    "plt.rcParams.update({'font.size': fs})\n",
    "plt.grid(True, c='lightgray', linestyle='--', linewidth=0.5)\n",
    "plt.ylabel(r'$\\lambda_k$', fontsize=fs)\n",
    "plt.xlabel(r'$k$', fontsize=fs)\n",
    "\n",
    "# Plot the reference LEs\n",
    "plt.plot(fullspace, LEs_ref[:n_lyap], 'ks', markersize=8, label='Reference')\n",
    "\n",
    "# Plot the mean of the ESN LEs\n",
    "plt.plot(fullspace, LEs_esn[-1, :n_lyap], 'ro', markersize=7, label='ESN ')\n",
    "plt.legend()\n",
    "\n",
    "plt.show()\n",
    "# plt.savefig\"../images/KS_L22_LEs.png\", dpi=100, bbox_inches='tight')"
   ]
  },
  {
   "cell_type": "markdown",
   "metadata": {},
   "source": [
    "#### 5: Calculate the Kaplan-Yorke dimension"
   ]
  },
  {
   "cell_type": "code",
   "execution_count": 63,
   "metadata": {},
   "outputs": [
    {
     "name": "stdout",
     "output_type": "stream",
     "text": [
      "Kaplan-Yorke dimension of the reference 6.006640751981428\n",
      "Kaplan-Yorke dimension of the reference 6.007993452075066\n"
     ]
    }
   ],
   "source": [
    "print(f\"Kaplan-Yorke dimension of the reference {kaplan_yorke_dim(LEs_ref)}\")\n",
    "print(f\"Kaplan-Yorke dimension of the reference {kaplan_yorke_dim(LEs_esn[-1])}\")"
   ]
  },
  {
   "cell_type": "markdown",
   "metadata": {},
   "source": [
    "#### 6: CLV calculation\n",
    "The CLV calculation is extremely time-intensive. We provide the code but we recommend implementing it in a seperate script. \n",
    "Calculate the CLVs from Q and R. Based on the CLVs, compute the angles."
   ]
  },
  {
   "cell_type": "code",
   "execution_count": 9,
   "metadata": {},
   "outputs": [],
   "source": [
    "# from clv_tools import clvs\n",
    "# V = clvs.compute_V(QQ, RR, (ks_data[\"dt\"] * ks_data[\"upsample\"]))\n",
    "# clv_idx = [(0, 2), (0, 6), (2, 6)]\n",
    "# costhetas, thetas = clvs.compute_thetas(V, clv_idx=clv_idx)"
   ]
  }
 ],
 "metadata": {
  "kernelspec": {
   "display_name": "cae-esn-tf",
   "language": "python",
   "name": "python3"
  },
  "language_info": {
   "codemirror_mode": {
    "name": "ipython",
    "version": 3
   },
   "file_extension": ".py",
   "mimetype": "text/x-python",
   "name": "python",
   "nbconvert_exporter": "python",
   "pygments_lexer": "ipython3",
   "version": "3.9.17"
  }
 },
 "nbformat": 4,
 "nbformat_minor": 2
}
