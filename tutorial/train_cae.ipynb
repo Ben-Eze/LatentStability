{
 "cells": [
  {
   "cell_type": "markdown",
   "metadata": {},
   "source": [
    "# Autoencoder \n",
    "\n",
    "This file contains all the necessary steps to train the CAE for the L22 "
   ]
  },
  {
   "cell_type": "code",
   "execution_count": 1,
   "metadata": {},
   "outputs": [],
   "source": [
    "import matplotlib as mpl\n",
    "from pathlib import Path\n",
    "import torchinfo\n",
    "import torch\n",
    "import time\n",
    "import einops\n",
    "import h5py\n",
    "import sys\n",
    "import matplotlib.pyplot as plt\n",
    "import numpy as np\n",
    "import warnings\n",
    "warnings.filterwarnings(\"ignore\", category=DeprecationWarning)\n",
    "device = torch.device(\"cpu\")\n",
    "mpl.rc('text', usetex=True)\n",
    "mpl.rc('font', family='serif')"
   ]
  },
  {
   "cell_type": "code",
   "execution_count": 2,
   "metadata": {},
   "outputs": [],
   "source": [
    "sys.path.append('../')\n",
    "from neuralnetwork.autoencoder import CAE\n",
    "from neuralnetwork.preprocessing import normalize_data, train_valid_test_split\n",
    "from neuralnetwork.earlystopping import EarlyStopper\n",
    "from neuralnetwork.losses import LossTracker"
   ]
  },
  {
   "cell_type": "markdown",
   "metadata": {},
   "source": [
    "#### 1 Data Import\n",
    "1. Load the data\n",
    "2. Discard the transient\n",
    "3. Normalize and split the data"
   ]
  },
  {
   "cell_type": "code",
   "execution_count": 3,
   "metadata": {},
   "outputs": [],
   "source": [
    "# Define some parameters for the data\n",
    "ks_data = {\n",
    "    'L': 22,\n",
    "    'N_data': 200000,\n",
    "    'N_trans': 1000,\n",
    "    'dt': 0.2,\n",
    "    'Nx': 512,\n",
    "    'train_ratio': 0.5,\n",
    "    'valid_ratio': 0.1,\n",
    "    'batchsize': 128,\n",
    "    'normtype': 'max', \n",
    "    'lyap':0.08, \n",
    "    'upsample':4\n",
    "}\n"
   ]
  },
  {
   "cell_type": "code",
   "execution_count": 4,
   "metadata": {},
   "outputs": [
    {
     "name": "stdout",
     "output_type": "stream",
     "text": [
      "Shape of KS data: (499751, 1, 512)\n"
     ]
    }
   ],
   "source": [
    "f = h5py.File('../data/M256_N512_tmax100000_deltat0.05L22.mat','r')\n",
    "U = np.array(f.get('uu'))[:, 1000::ks_data['upsample']] \n",
    "U = einops.rearrange(U, 'x time-> time 1 x')\n",
    "sysdim = U.shape[0]\n",
    "print(f\"Shape of KS data: {U.shape}\")\n",
    "\n",
    "# Normalize and split\n",
    "U_normalized, maxnorm = normalize_data(U, normtype=ks_data['normtype'])\n",
    "U_train_series, U_valid_series, U_test_series = train_valid_test_split(U_normalized, ks_data)\n",
    "\n",
    "train_loader = torch.utils.data.DataLoader(torch.from_numpy(U_train_series).float(), batch_size=ks_data['batchsize'])\n",
    "valid_loader = torch.utils.data.DataLoader(torch.from_numpy(U_valid_series).float(), batch_size=ks_data['batchsize'])"
   ]
  },
  {
   "cell_type": "markdown",
   "metadata": {},
   "source": [
    "#### 2 Convolutional Autoencoder\n",
    "1. Load the class and set the number of latent variables\n",
    "2. Train the CAE\n",
    "3. (opt) Load pretrained weights"
   ]
  },
  {
   "cell_type": "code",
   "execution_count": 5,
   "metadata": {},
   "outputs": [
    {
     "name": "stdout",
     "output_type": "stream",
     "text": [
      "==========================================================================================\n",
      "Layer (type:depth-idx)                   Output Shape              Param #\n",
      "==========================================================================================\n",
      "CAE                                      [1, 8]                    --\n",
      "├─Sequential: 1-1                        [1, 8]                    --\n",
      "│    └─Conv1d: 2-1                       [1, 2, 253]               18\n",
      "│    └─Tanh: 2-2                         [1, 2, 253]               --\n",
      "│    └─Conv1d: 2-3                       [1, 4, 123]               68\n",
      "│    └─Tanh: 2-4                         [1, 4, 123]               --\n",
      "│    └─Conv1d: 2-5                       [1, 8, 60]                168\n",
      "│    └─Tanh: 2-6                         [1, 8, 60]                --\n",
      "│    └─Conv1d: 2-7                       [1, 16, 19]               656\n",
      "│    └─Tanh: 2-8                         [1, 16, 19]               --\n",
      "│    └─Conv1d: 2-9                       [1, 32, 6]                1,568\n",
      "│    └─Tanh: 2-10                        [1, 32, 6]                --\n",
      "│    └─Conv1d: 2-11                      [1, 64, 2]                6,208\n",
      "│    └─Tanh: 2-12                        [1, 64, 2]                --\n",
      "│    └─Flatten: 2-13                     [1, 128]                  --\n",
      "│    └─Linear: 2-14                      [1, 8]                    1,032\n",
      "│    └─Tanh: 2-15                        [1, 8]                    --\n",
      "├─Sequential: 1-2                        [1, 1, 512]               --\n",
      "│    └─Linear: 2-16                      [1, 128]                  1,152\n",
      "│    └─Tanh: 2-17                        [1, 128]                  --\n",
      "│    └─Unflatten: 2-18                   [1, 64, 2]                --\n",
      "│    └─ConvTranspose1d: 2-19             [1, 32, 6]                6,176\n",
      "│    └─ConvTranspose1d: 2-20             [1, 32, 8]                3,104\n",
      "│    └─Tanh: 2-21                        [1, 32, 8]                --\n",
      "│    └─ConvTranspose1d: 2-22             [1, 16, 26]               2,576\n",
      "│    └─ConvTranspose1d: 2-23             [1, 16, 26]               784\n",
      "│    └─Tanh: 2-24                        [1, 16, 26]               --\n",
      "│    └─ConvTranspose1d: 2-25             [1, 8, 80]                648\n",
      "│    └─ConvTranspose1d: 2-26             [1, 8, 82]                200\n",
      "│    └─Tanh: 2-27                        [1, 8, 82]                --\n",
      "│    └─ConvTranspose1d: 2-28             [1, 4, 251]               260\n",
      "│    └─ConvTranspose1d: 2-29             [1, 4, 253]               52\n",
      "│    └─Tanh: 2-30                        [1, 4, 253]               --\n",
      "│    └─ConvTranspose1d: 2-31             [1, 2, 512]               66\n",
      "│    └─ConvTranspose1d: 2-32             [1, 1, 512]               7\n",
      "│    └─Tanh: 2-33                        [1, 1, 512]               --\n",
      "==========================================================================================\n",
      "Total params: 24,743\n",
      "Trainable params: 24,743\n",
      "Non-trainable params: 0\n",
      "Total mult-adds (M): 0.39\n",
      "==========================================================================================\n",
      "Input size (MB): 0.00\n",
      "Forward/backward pass size (MB): 0.07\n",
      "Params size (MB): 0.10\n",
      "Estimated Total Size (MB): 0.17\n",
      "==========================================================================================\n"
     ]
    }
   ],
   "source": [
    "cae_model = CAE(8)\n",
    "cae_model = cae_model.to(device)\n",
    "print(torchinfo.summary(cae_model, input_size=(1, 1, ks_data['Nx'])))\n",
    "\n",
    "criterion = torch.nn.MSELoss()\n",
    "optimizer = torch.optim.Adam(cae_model.parameters(), lr=0.001)"
   ]
  },
  {
   "cell_type": "code",
   "execution_count": 6,
   "metadata": {},
   "outputs": [],
   "source": [
    "# # Load model weights if available\n",
    "# model_path = Path('/home/eo821/Documents/Kolmogorov-CAE-RNN/models/ks/L8pi/fluent-sweep-2')\n",
    "# cae_model.load_state_dict(torch.load(model_path/\"best_model.pth\", map_location=device))\n",
    "# cae_model = cae_model.to(device)"
   ]
  },
  {
   "cell_type": "code",
   "execution_count": 7,
   "metadata": {},
   "outputs": [
    {
     "name": "stdout",
     "output_type": "stream",
     "text": [
      "training; epoch 0; time 12.21s \n",
      "total loss 3.31e-02\n",
      "validation; epoch 0; time 0.84s \n",
      "total loss 1.18e-02\n",
      "Saved best model\n",
      "training; epoch 1; time 11.67s \n",
      "total loss 7.77e-03\n",
      "validation; epoch 1; time 0.81s \n",
      "total loss 4.85e-03\n",
      "Saved best model\n",
      "training; epoch 2; time 12.08s \n",
      "total loss 4.77e-03\n",
      "validation; epoch 2; time 0.93s \n",
      "total loss 4.15e-03\n",
      "Saved best model\n",
      "training; epoch 3; time 11.53s \n",
      "total loss 4.38e-03\n",
      "validation; epoch 3; time 0.82s \n",
      "total loss 3.94e-03\n",
      "Saved best model\n",
      "training; epoch 4; time 11.27s \n",
      "total loss 3.50e-03\n",
      "validation; epoch 4; time 0.81s \n",
      "total loss 2.82e-03\n",
      "Saved best model\n",
      "training; epoch 5; time 11.27s \n",
      "total loss 3.46e-03\n",
      "validation; epoch 5; time 0.85s \n",
      "total loss 3.34e-03\n",
      "training; epoch 6; time 16.32s \n",
      "total loss 3.03e-03\n",
      "validation; epoch 6; time 0.96s \n",
      "total loss 3.24e-03\n",
      "training; epoch 7; time 13.58s \n",
      "total loss 2.61e-03\n",
      "validation; epoch 7; time 0.95s \n",
      "total loss 2.09e-03\n",
      "Saved best model\n",
      "training; epoch 8; time 13.56s \n",
      "total loss 2.27e-03\n",
      "validation; epoch 8; time 0.94s \n",
      "total loss 2.34e-03\n",
      "training; epoch 9; time 34.66s \n",
      "total loss 1.82e-03\n",
      "validation; epoch 9; time 1.88s \n",
      "total loss 1.57e-03\n",
      "Saved best model\n"
     ]
    }
   ],
   "source": [
    "# Define the number of epochs and the gamma parameter for the scheduler\n",
    "epochs = 10\n",
    "gamma = 0.999\n",
    "\n",
    "# Create an instance of ExponentialLR and associate it with your optimizer\n",
    "scheduler = torch.optim.lr_scheduler.ExponentialLR(optimizer, gamma=gamma)\n",
    "loss_tracker = LossTracker(len(train_loader), len(valid_loader))\n",
    "\n",
    "early_stopper = EarlyStopper(patience=200, min_delta=1e-6)\n",
    "weighing_dissipation = 1\n",
    "cae_model = cae_model.to(device)\n",
    "# wandb.watch(model)\n",
    "best_model_state_dict = cae_model.state_dict()  # Save the best model state_dict\n",
    "patience = 100\n",
    "training_losses_per_epoch = []\n",
    "validation_losses_per_epoch = []\n",
    "best_validation_loss = float('inf')\n",
    "for epoch in range(epochs):\n",
    "    loss_tracker.set_start_time(time.time())\n",
    "    loss_tracker.reset_current_loss()\n",
    "\n",
    "    # Training loop\n",
    "    cae_model.train()\n",
    "    for step, x_batch_train in enumerate(train_loader):\n",
    "        x_batch_train = x_batch_train.to(device)\n",
    "        optimizer.zero_grad()\n",
    "        encoded, output = cae_model(x_batch_train.to(device))\n",
    "        loss = criterion(output, x_batch_train)\n",
    "        loss.backward()\n",
    "        optimizer.step()\n",
    "        loss_tracker.update_current_loss('training', loss)\n",
    "    loss_tracker.print_current_loss(epoch, 'training')\n",
    "\n",
    "    loss_tracker.set_start_time(time.time())\n",
    "    scheduler.step()\n",
    "    # Validation loop\n",
    "    cae_model.eval()\n",
    "    with torch.no_grad():\n",
    "        for valid_step, x_batch_valid in enumerate(valid_loader):\n",
    "            x_batch_valid = x_batch_valid.to(device)\n",
    "            encoded, output = cae_model(x_batch_valid)\n",
    "            loss = criterion(output, x_batch_valid)\n",
    "            loss_tracker.update_current_loss('validation', loss)\n",
    "\n",
    "    loss_tracker.print_current_loss(epoch, 'validation')\n",
    "    loss_tracker.calculate_and_store_average_losses()\n",
    "\n",
    "    if loss_tracker.check_best_validation_loss():\n",
    "        early_stopper.reset_counter()\n",
    "        best_model_state_dict = cae_model.state_dict()  # the best model state_dict\n",
    "        # torch.save(model.state_dict(), modelpath/'best_model.pth')  # Save the best model\n",
    "        print('Saved best model')\n",
    "    if early_stopper.track(loss_tracker.get_current_validation_loss()):\n",
    "        break"
   ]
  },
  {
   "cell_type": "code",
   "execution_count": 8,
   "metadata": {},
   "outputs": [],
   "source": [
    "# model_path = Path('../weights/fluent-sweep-2')\n",
    "\n",
    "# cae_model.load_state_dict(torch.load(model_path/\"best_model.pth\", map_location=device))\n",
    "# cae_model = cae_model.to(device)\n",
    "\n",
    "# # save the encoded data\n",
    "# snapshot = torch.from_numpy(U_normalized).float()\n",
    "# encoded, snapshot_decoded = cae_model(snapshot.to(device))\n",
    "# with open('encoded_ks.npy', 'wb') as f:\n",
    "#     np.save(f, encoded.detach().numpy())"
   ]
  },
  {
   "cell_type": "markdown",
   "metadata": {},
   "source": [
    "#### 3 Plot the CAE results"
   ]
  },
  {
   "cell_type": "code",
   "execution_count": 11,
   "metadata": {},
   "outputs": [
    {
     "data": {
      "image/png": "[encoded data removed]",
      "text/plain": [
       "<Figure size 500x300 with 5 Axes>"
      ]
     },
     "metadata": {},
     "output_type": "display_data"
    }
   ],
   "source": [
    "\n",
    "# Define constants\n",
    "N_lyap = int(1/ks_data[\"lyap\"]/(ks_data[\"dt\"]*ks_data[\"upsample\"]))\n",
    "N_plot = 15*N_lyap\n",
    "fs = 14\n",
    "cmap = 'RdBu_r'\n",
    "\n",
    "# Calculate domain length\n",
    "domain_length = 8 * np.pi\n",
    "\n",
    "# Create subplots\n",
    "fig, axs = plt.subplots(nrows=1, ncols=3, figsize=(\n",
    "    5, 3), sharey=True)  # Changed ncols to 1\n",
    "\n",
    "# Encode and decode snapshot\n",
    "snapshot = torch.from_numpy(U_test_series[:N_plot]).float()\n",
    "encoded, snapshot_decoded = cae_model(snapshot.to(device))\n",
    "\n",
    "maxnorm = 3.58\n",
    "# Extract data\n",
    "data1 = snapshot.numpy(force=True)[:N_plot, 0, :] * maxnorm\n",
    "data2 = snapshot_decoded.numpy(force=True)[:N_plot, 0, :] * maxnorm\n",
    "data3 = data1 - data2\n",
    "\n",
    "lyapunov_time = ks_data[\"lyap\"] * np.arange(0, 10000, (ks_data[\"dt\"]*ks_data[\"upsample\"]))\n",
    "# Adjust subplot spacing\n",
    "plt.subplots_adjust(wspace=-0.05)  #\n",
    "# Plot data\n",
    "for i, data in enumerate([data1, data2, data3]):\n",
    "    axes = axs[i]\n",
    "    im = axes.imshow(data, aspect='auto', cmap=cmap,\n",
    "                     extent=[0, 2 * 4 * np.pi, int(lyapunov_time[N_plot]), lyapunov_time[0]])\n",
    "\n",
    "    axes.set_xlabel('x', fontsize=fs, rotation=0, labelpad=0, y=0.46)\n",
    "    # Set y-tick labels and font size\n",
    "    # axes.set_yticks(axes.get_yticks())  # Ensure yticks are set first\n",
    "    # axes.set_yticklabels(\n",
    "    #     [f'{int(tick)}' for tick in axes.get_yticks()], fontsize=fs)\n",
    "\n",
    "    axes.yaxis.tick_left()\n",
    "\n",
    "    axes.set_xticks(np.arange(0, 8 * np.pi + 0.01, step=(1 * 4 * np.pi)), ['0', r'$4\\pi$', r'8$\\pi$'],\n",
    "                    fontsize=fs)\n",
    "    for tick_label in axes.get_xticklabels():\n",
    "        tick_label.set_ha('center')\n",
    "        tick_label.set_x(-0.05)\n",
    "\n",
    "    # Add colorbar\n",
    "    if i == 1 or i == 2:\n",
    "        cbar = fig.colorbar(im, ax=axes)\n",
    "        cbar.ax.tick_params(labelsize=fs)\n",
    "axs[0].set_ylabel(r'$\\tau_{\\lambda}$', fontsize=fs)\n",
    "axs[0].set_title(\"Reference\")\n",
    "axs[1].set_title(\"CAE\")\n",
    "axs[2].set_title(\"Error\")\n",
    "# Show or save plot\n",
    "plt.tight_layout()\n",
    "plt.savefig(\"../images/cae.png\", dpi=100)"
   ]
  },
  {
   "cell_type": "code",
   "execution_count": null,
   "metadata": {},
   "outputs": [],
   "source": []
  }
 ],
 "metadata": {
  "kernelspec": {
   "display_name": "cae-esn-tf",
   "language": "python",
   "name": "python3"
  },
  "language_info": {
   "codemirror_mode": {
    "name": "ipython",
    "version": 3
   },
   "file_extension": ".py",
   "mimetype": "text/x-python",
   "name": "python",
   "nbconvert_exporter": "python",
   "pygments_lexer": "ipython3",
   "version": "3.9.17"
  }
 },
 "nbformat": 4,
 "nbformat_minor": 2
}
